{
  "cells": [
    {
      "cell_type": "markdown",
      "source": [
        "# Heat Attack Dataset\r\n",
        "This dataset was downloaded from https://www.kaggle.com/rashikrahmanpritom/heart-attack-analysis-prediction-dataset.<br>\r\n",
        "The notebook was created taking as baseline the tutorials from https://microsoftlearning.github.io/mslearn-dp100/.\r\n",
        "## Connect to a workspace"
      ],
      "metadata": {
        "nteract": {
          "transient": {
            "deleting": false
          }
        }
      }
    },
    {
      "cell_type": "code",
      "source": [
        "from azureml.core import Workspace, Dataset\r\n",
        "ws = Workspace.from_config()\r\n",
        "print(ws.name, \"loaded\")"
      ],
      "outputs": [],
      "execution_count": null,
      "metadata": {
        "jupyter": {
          "source_hidden": false,
          "outputs_hidden": false
        },
        "nteract": {
          "transient": {
            "deleting": false
          }
        },
        "gather": {
          "logged": 1636950664063
        }
      }
    },
    {
      "cell_type": "markdown",
      "source": [
        "## Prepare Compute\r\n",
        "Check available compute resources. Mostly use CI (local compute) for this stage."
      ],
      "metadata": {
        "nteract": {
          "transient": {
            "deleting": false
          }
        }
      }
    },
    {
      "cell_type": "code",
      "source": [
        "print(\"Compute Resources:\")\r\n",
        "for compute_name in ws.compute_targets:\r\n",
        "    compute = ws.compute_targets[compute_name]\r\n",
        "    print(\"\\t\", compute.name, ':', compute.type)"
      ],
      "outputs": [],
      "execution_count": null,
      "metadata": {
        "jupyter": {
          "source_hidden": false,
          "outputs_hidden": false
        },
        "nteract": {
          "transient": {
            "deleting": false
          }
        },
        "gather": {
          "logged": 1636950664617
        }
      }
    },
    {
      "cell_type": "markdown",
      "source": [
        "## Specify an Azure ML compute cluster (we will need it for autoML)"
      ],
      "metadata": {
        "nteract": {
          "transient": {
            "deleting": false
          }
        }
      }
    },
    {
      "cell_type": "code",
      "source": [
        "from azureml.core.compute import ComputeTarget, AmlCompute\r\n",
        "from azureml.core.compute_target import ComputeTargetException\r\n",
        "\r\n",
        "cluster_name = \"CLAI915002\"\r\n",
        "\r\n",
        "try:\r\n",
        "    # Get existing compute target\r\n",
        "    training_cluster = ComputeTarget(workspace=ws, name=cluster_name)\r\n",
        "    print(\"Found cluster!\")\r\n",
        "except ComputeTargetException:\r\n",
        "    # Create one if it does not exist\r\n",
        "    try:\r\n",
        "        compute_config = AmlCompute.provisioning_configuration(vm_size='STANDARD_DS11_V2', max_nodes=2)\r\n",
        "        training_cluster = ComputeTarget.create(ws, cluster_name, compute_config)\r\n",
        "        training_cluster.wait_for_completion(show_output=True)\r\n",
        "    except Exception as ex:\r\n",
        "        print(ex)\r\n",
        "\r\n"
      ],
      "outputs": [
        {
          "output_type": "stream",
          "name": "stdout",
          "text": "Found cluster!\n"
        }
      ],
      "execution_count": 3,
      "metadata": {
        "jupyter": {
          "source_hidden": false,
          "outputs_hidden": false
        },
        "nteract": {
          "transient": {
            "deleting": false
          }
        },
        "gather": {
          "logged": 1636950665006
        }
      }
    },
    {
      "cell_type": "markdown",
      "source": [
        "## Load and register dataset\r\n",
        "**Data Description**<br>\r\n",
        "\r\n",
        "*age*: Age of the person<br>\r\n",
        "*sex*: Gender of the person<br>\r\n",
        "*cp*: chest pain type<br>\r\n",
        "*trtbps*: resting blood pressure (mm Hg)<br>\r\n",
        "*chol*: cholesterol (mg/dl)<br>\r\n",
        "*fbs*: fasting blood sugar > 120 mg/dl<br>\r\n",
        "*restecg*: resting electrocardiographic results<br>\r\n",
        "*thalachh*: maximum heart rate achieved<br>\r\n",
        "*exng*: exercise induced angina (1 = yes, 0 = no)<br>\r\n",
        "*oldpeak*: previous peak<br>\r\n",
        "*slp*: slope<br>\r\n",
        "*caa*: number of major vessels (0-3)<br>\r\n",
        "*thall*: Thal rate <br>\r\n",
        "*output*: had heart attack (target)\r\n",
        "\r\n"
      ],
      "metadata": {
        "nteract": {
          "transient": {
            "deleting": false
          }
        }
      }
    },
    {
      "cell_type": "code",
      "source": [
        "# Load default datastore\r\n",
        "default_ds = ws.get_default_datastore()\r\n",
        "\r\n",
        "# Upload datasets to the datastore\r\n",
        "default_ds.upload_files(['./data/heart.csv'],\r\n",
        "                        target_path='heart-data/',\r\n",
        "                        overwrite=True,\r\n",
        "                        show_progress=True)"
      ],
      "outputs": [
        {
          "output_type": "stream",
          "name": "stdout",
          "text": "Uploading an estimated of 1 files\nUploading ./data/heart.csv\nUploaded ./data/heart.csv, 1 files out of an estimated total of 1\nUploaded 1 files\n"
        },
        {
          "output_type": "execute_result",
          "execution_count": 4,
          "data": {
            "text/plain": "$AZUREML_DATAREFERENCE_1e2a2111e2144499a05e1ca1a641f13c"
          },
          "metadata": {}
        }
      ],
      "execution_count": 4,
      "metadata": {
        "jupyter": {
          "source_hidden": false,
          "outputs_hidden": false
        },
        "nteract": {
          "transient": {
            "deleting": false
          }
        },
        "gather": {
          "logged": 1636950666046
        }
      }
    },
    {
      "cell_type": "code",
      "source": [
        "# Create tabular dataset with heart data\r\n",
        "heart_tab = Dataset.Tabular.from_delimited_files(path=(default_ds, 'heart-data/heart.csv'))\r\n",
        "heart_tab.to_pandas_dataframe()\r\n"
      ],
      "outputs": [
        {
          "output_type": "execute_result",
          "execution_count": 5,
          "data": {
            "text/plain": "     age  sex  cp  trtbps  chol  fbs  restecg  thalachh  exng  oldpeak  slp  \\\n0     63    1   3     145   233    1        0       150     0      2.3    0   \n1     37    1   2     130   250    0        1       187     0      3.5    0   \n2     41    0   1     130   204    0        0       172     0      1.4    2   \n3     56    1   1     120   236    0        1       178     0      0.8    2   \n4     57    0   0     120   354    0        1       163     1      0.6    2   \n..   ...  ...  ..     ...   ...  ...      ...       ...   ...      ...  ...   \n298   57    0   0     140   241    0        1       123     1      0.2    1   \n299   45    1   3     110   264    0        1       132     0      1.2    1   \n300   68    1   0     144   193    1        1       141     0      3.4    1   \n301   57    1   0     130   131    0        1       115     1      1.2    1   \n302   57    0   1     130   236    0        0       174     0      0.0    1   \n\n     caa  thall  output  \n0      0      1       1  \n1      0      2       1  \n2      0      2       1  \n3      0      2       1  \n4      0      2       1  \n..   ...    ...     ...  \n298    0      3       0  \n299    0      3       0  \n300    2      3       0  \n301    1      3       0  \n302    1      2       0  \n\n[303 rows x 14 columns]",
            "text/html": "<div>\n<style scoped>\n    .dataframe tbody tr th:only-of-type {\n        vertical-align: middle;\n    }\n\n    .dataframe tbody tr th {\n        vertical-align: top;\n    }\n\n    .dataframe thead th {\n        text-align: right;\n    }\n</style>\n<table border=\"1\" class=\"dataframe\">\n  <thead>\n    <tr style=\"text-align: right;\">\n      <th></th>\n      <th>age</th>\n      <th>sex</th>\n      <th>cp</th>\n      <th>trtbps</th>\n      <th>chol</th>\n      <th>fbs</th>\n      <th>restecg</th>\n      <th>thalachh</th>\n      <th>exng</th>\n      <th>oldpeak</th>\n      <th>slp</th>\n      <th>caa</th>\n      <th>thall</th>\n      <th>output</th>\n    </tr>\n  </thead>\n  <tbody>\n    <tr>\n      <th>0</th>\n      <td>63</td>\n      <td>1</td>\n      <td>3</td>\n      <td>145</td>\n      <td>233</td>\n      <td>1</td>\n      <td>0</td>\n      <td>150</td>\n      <td>0</td>\n      <td>2.3</td>\n      <td>0</td>\n      <td>0</td>\n      <td>1</td>\n      <td>1</td>\n    </tr>\n    <tr>\n      <th>1</th>\n      <td>37</td>\n      <td>1</td>\n      <td>2</td>\n      <td>130</td>\n      <td>250</td>\n      <td>0</td>\n      <td>1</td>\n      <td>187</td>\n      <td>0</td>\n      <td>3.5</td>\n      <td>0</td>\n      <td>0</td>\n      <td>2</td>\n      <td>1</td>\n    </tr>\n    <tr>\n      <th>2</th>\n      <td>41</td>\n      <td>0</td>\n      <td>1</td>\n      <td>130</td>\n      <td>204</td>\n      <td>0</td>\n      <td>0</td>\n      <td>172</td>\n      <td>0</td>\n      <td>1.4</td>\n      <td>2</td>\n      <td>0</td>\n      <td>2</td>\n      <td>1</td>\n    </tr>\n    <tr>\n      <th>3</th>\n      <td>56</td>\n      <td>1</td>\n      <td>1</td>\n      <td>120</td>\n      <td>236</td>\n      <td>0</td>\n      <td>1</td>\n      <td>178</td>\n      <td>0</td>\n      <td>0.8</td>\n      <td>2</td>\n      <td>0</td>\n      <td>2</td>\n      <td>1</td>\n    </tr>\n    <tr>\n      <th>4</th>\n      <td>57</td>\n      <td>0</td>\n      <td>0</td>\n      <td>120</td>\n      <td>354</td>\n      <td>0</td>\n      <td>1</td>\n      <td>163</td>\n      <td>1</td>\n      <td>0.6</td>\n      <td>2</td>\n      <td>0</td>\n      <td>2</td>\n      <td>1</td>\n    </tr>\n    <tr>\n      <th>...</th>\n      <td>...</td>\n      <td>...</td>\n      <td>...</td>\n      <td>...</td>\n      <td>...</td>\n      <td>...</td>\n      <td>...</td>\n      <td>...</td>\n      <td>...</td>\n      <td>...</td>\n      <td>...</td>\n      <td>...</td>\n      <td>...</td>\n      <td>...</td>\n    </tr>\n    <tr>\n      <th>298</th>\n      <td>57</td>\n      <td>0</td>\n      <td>0</td>\n      <td>140</td>\n      <td>241</td>\n      <td>0</td>\n      <td>1</td>\n      <td>123</td>\n      <td>1</td>\n      <td>0.2</td>\n      <td>1</td>\n      <td>0</td>\n      <td>3</td>\n      <td>0</td>\n    </tr>\n    <tr>\n      <th>299</th>\n      <td>45</td>\n      <td>1</td>\n      <td>3</td>\n      <td>110</td>\n      <td>264</td>\n      <td>0</td>\n      <td>1</td>\n      <td>132</td>\n      <td>0</td>\n      <td>1.2</td>\n      <td>1</td>\n      <td>0</td>\n      <td>3</td>\n      <td>0</td>\n    </tr>\n    <tr>\n      <th>300</th>\n      <td>68</td>\n      <td>1</td>\n      <td>0</td>\n      <td>144</td>\n      <td>193</td>\n      <td>1</td>\n      <td>1</td>\n      <td>141</td>\n      <td>0</td>\n      <td>3.4</td>\n      <td>1</td>\n      <td>2</td>\n      <td>3</td>\n      <td>0</td>\n    </tr>\n    <tr>\n      <th>301</th>\n      <td>57</td>\n      <td>1</td>\n      <td>0</td>\n      <td>130</td>\n      <td>131</td>\n      <td>0</td>\n      <td>1</td>\n      <td>115</td>\n      <td>1</td>\n      <td>1.2</td>\n      <td>1</td>\n      <td>1</td>\n      <td>3</td>\n      <td>0</td>\n    </tr>\n    <tr>\n      <th>302</th>\n      <td>57</td>\n      <td>0</td>\n      <td>1</td>\n      <td>130</td>\n      <td>236</td>\n      <td>0</td>\n      <td>0</td>\n      <td>174</td>\n      <td>0</td>\n      <td>0.0</td>\n      <td>1</td>\n      <td>1</td>\n      <td>2</td>\n      <td>0</td>\n    </tr>\n  </tbody>\n</table>\n<p>303 rows × 14 columns</p>\n</div>"
          },
          "metadata": {}
        }
      ],
      "execution_count": 5,
      "metadata": {
        "jupyter": {
          "source_hidden": false,
          "outputs_hidden": false
        },
        "nteract": {
          "transient": {
            "deleting": false
          }
        },
        "gather": {
          "logged": 1636950670934
        }
      }
    },
    {
      "cell_type": "code",
      "source": [
        "# Register heart dataset\r\n",
        "heart_tab = heart_tab.register(workspace=ws,\r\n",
        "                            name='heart',\r\n",
        "                            description='heart attack data',\r\n",
        "                            tags={'format':'CSV'},\r\n",
        "                            create_new_version=True)\r\n"
      ],
      "outputs": [],
      "execution_count": 6,
      "metadata": {
        "jupyter": {
          "source_hidden": false,
          "outputs_hidden": false
        },
        "nteract": {
          "transient": {
            "deleting": false
          }
        },
        "gather": {
          "logged": 1636950671405
        }
      }
    },
    {
      "cell_type": "code",
      "source": [
        "print(\"Datasets:\")\r\n",
        "for dataset_name in list(ws.datasets.keys()):\r\n",
        "    dataset = Dataset.get_by_name(ws, dataset_name)\r\n",
        "    print(\"\\t\", dataset.name, 'version', dataset.version)"
      ],
      "outputs": [
        {
          "output_type": "stream",
          "name": "stdout",
          "text": "Datasets:\n\t o2 version 1\n\t heart version 2\n"
        }
      ],
      "execution_count": 7,
      "metadata": {
        "jupyter": {
          "source_hidden": false,
          "outputs_hidden": false
        },
        "nteract": {
          "transient": {
            "deleting": false
          }
        },
        "gather": {
          "logged": 1636950671632
        }
      }
    },
    {
      "cell_type": "markdown",
      "source": [
        "## Check data"
      ],
      "metadata": {
        "nteract": {
          "transient": {
            "deleting": false
          }
        }
      }
    },
    {
      "cell_type": "code",
      "source": [
        "# Check for Null values\r\n",
        "heart_tab.to_pandas_dataframe().isnull().sum()"
      ],
      "outputs": [
        {
          "output_type": "execute_result",
          "execution_count": 8,
          "data": {
            "text/plain": "age         0\nsex         0\ncp          0\ntrtbps      0\nchol        0\nfbs         0\nrestecg     0\nthalachh    0\nexng        0\noldpeak     0\nslp         0\ncaa         0\nthall       0\noutput      0\ndtype: int64"
          },
          "metadata": {}
        }
      ],
      "execution_count": 8,
      "metadata": {
        "jupyter": {
          "source_hidden": false,
          "outputs_hidden": false
        },
        "nteract": {
          "transient": {
            "deleting": false
          }
        },
        "gather": {
          "logged": 1636950671984
        }
      }
    },
    {
      "cell_type": "code",
      "source": [
        "# Look inside\r\n",
        "heart_tab.to_pandas_dataframe().describe()"
      ],
      "outputs": [
        {
          "output_type": "execute_result",
          "execution_count": 9,
          "data": {
            "text/plain": "              age         sex          cp      trtbps        chol         fbs  \\\ncount  303.000000  303.000000  303.000000  303.000000  303.000000  303.000000   \nmean    54.366337    0.683168    0.966997  131.623762  246.264026    0.148515   \nstd      9.082101    0.466011    1.032052   17.538143   51.830751    0.356198   \nmin     29.000000    0.000000    0.000000   94.000000  126.000000    0.000000   \n25%     47.500000    0.000000    0.000000  120.000000  211.000000    0.000000   \n50%     55.000000    1.000000    1.000000  130.000000  240.000000    0.000000   \n75%     61.000000    1.000000    2.000000  140.000000  274.500000    0.000000   \nmax     77.000000    1.000000    3.000000  200.000000  564.000000    1.000000   \n\n          restecg    thalachh        exng     oldpeak         slp         caa  \\\ncount  303.000000  303.000000  303.000000  303.000000  303.000000  303.000000   \nmean     0.528053  149.646865    0.326733    1.039604    1.399340    0.729373   \nstd      0.525860   22.905161    0.469794    1.161075    0.616226    1.022606   \nmin      0.000000   71.000000    0.000000    0.000000    0.000000    0.000000   \n25%      0.000000  133.500000    0.000000    0.000000    1.000000    0.000000   \n50%      1.000000  153.000000    0.000000    0.800000    1.000000    0.000000   \n75%      1.000000  166.000000    1.000000    1.600000    2.000000    1.000000   \nmax      2.000000  202.000000    1.000000    6.200000    2.000000    4.000000   \n\n            thall      output  \ncount  303.000000  303.000000  \nmean     2.313531    0.544554  \nstd      0.612277    0.498835  \nmin      0.000000    0.000000  \n25%      2.000000    0.000000  \n50%      2.000000    1.000000  \n75%      3.000000    1.000000  \nmax      3.000000    1.000000  ",
            "text/html": "<div>\n<style scoped>\n    .dataframe tbody tr th:only-of-type {\n        vertical-align: middle;\n    }\n\n    .dataframe tbody tr th {\n        vertical-align: top;\n    }\n\n    .dataframe thead th {\n        text-align: right;\n    }\n</style>\n<table border=\"1\" class=\"dataframe\">\n  <thead>\n    <tr style=\"text-align: right;\">\n      <th></th>\n      <th>age</th>\n      <th>sex</th>\n      <th>cp</th>\n      <th>trtbps</th>\n      <th>chol</th>\n      <th>fbs</th>\n      <th>restecg</th>\n      <th>thalachh</th>\n      <th>exng</th>\n      <th>oldpeak</th>\n      <th>slp</th>\n      <th>caa</th>\n      <th>thall</th>\n      <th>output</th>\n    </tr>\n  </thead>\n  <tbody>\n    <tr>\n      <th>count</th>\n      <td>303.000000</td>\n      <td>303.000000</td>\n      <td>303.000000</td>\n      <td>303.000000</td>\n      <td>303.000000</td>\n      <td>303.000000</td>\n      <td>303.000000</td>\n      <td>303.000000</td>\n      <td>303.000000</td>\n      <td>303.000000</td>\n      <td>303.000000</td>\n      <td>303.000000</td>\n      <td>303.000000</td>\n      <td>303.000000</td>\n    </tr>\n    <tr>\n      <th>mean</th>\n      <td>54.366337</td>\n      <td>0.683168</td>\n      <td>0.966997</td>\n      <td>131.623762</td>\n      <td>246.264026</td>\n      <td>0.148515</td>\n      <td>0.528053</td>\n      <td>149.646865</td>\n      <td>0.326733</td>\n      <td>1.039604</td>\n      <td>1.399340</td>\n      <td>0.729373</td>\n      <td>2.313531</td>\n      <td>0.544554</td>\n    </tr>\n    <tr>\n      <th>std</th>\n      <td>9.082101</td>\n      <td>0.466011</td>\n      <td>1.032052</td>\n      <td>17.538143</td>\n      <td>51.830751</td>\n      <td>0.356198</td>\n      <td>0.525860</td>\n      <td>22.905161</td>\n      <td>0.469794</td>\n      <td>1.161075</td>\n      <td>0.616226</td>\n      <td>1.022606</td>\n      <td>0.612277</td>\n      <td>0.498835</td>\n    </tr>\n    <tr>\n      <th>min</th>\n      <td>29.000000</td>\n      <td>0.000000</td>\n      <td>0.000000</td>\n      <td>94.000000</td>\n      <td>126.000000</td>\n      <td>0.000000</td>\n      <td>0.000000</td>\n      <td>71.000000</td>\n      <td>0.000000</td>\n      <td>0.000000</td>\n      <td>0.000000</td>\n      <td>0.000000</td>\n      <td>0.000000</td>\n      <td>0.000000</td>\n    </tr>\n    <tr>\n      <th>25%</th>\n      <td>47.500000</td>\n      <td>0.000000</td>\n      <td>0.000000</td>\n      <td>120.000000</td>\n      <td>211.000000</td>\n      <td>0.000000</td>\n      <td>0.000000</td>\n      <td>133.500000</td>\n      <td>0.000000</td>\n      <td>0.000000</td>\n      <td>1.000000</td>\n      <td>0.000000</td>\n      <td>2.000000</td>\n      <td>0.000000</td>\n    </tr>\n    <tr>\n      <th>50%</th>\n      <td>55.000000</td>\n      <td>1.000000</td>\n      <td>1.000000</td>\n      <td>130.000000</td>\n      <td>240.000000</td>\n      <td>0.000000</td>\n      <td>1.000000</td>\n      <td>153.000000</td>\n      <td>0.000000</td>\n      <td>0.800000</td>\n      <td>1.000000</td>\n      <td>0.000000</td>\n      <td>2.000000</td>\n      <td>1.000000</td>\n    </tr>\n    <tr>\n      <th>75%</th>\n      <td>61.000000</td>\n      <td>1.000000</td>\n      <td>2.000000</td>\n      <td>140.000000</td>\n      <td>274.500000</td>\n      <td>0.000000</td>\n      <td>1.000000</td>\n      <td>166.000000</td>\n      <td>1.000000</td>\n      <td>1.600000</td>\n      <td>2.000000</td>\n      <td>1.000000</td>\n      <td>3.000000</td>\n      <td>1.000000</td>\n    </tr>\n    <tr>\n      <th>max</th>\n      <td>77.000000</td>\n      <td>1.000000</td>\n      <td>3.000000</td>\n      <td>200.000000</td>\n      <td>564.000000</td>\n      <td>1.000000</td>\n      <td>2.000000</td>\n      <td>202.000000</td>\n      <td>1.000000</td>\n      <td>6.200000</td>\n      <td>2.000000</td>\n      <td>4.000000</td>\n      <td>3.000000</td>\n      <td>1.000000</td>\n    </tr>\n  </tbody>\n</table>\n</div>"
          },
          "metadata": {}
        }
      ],
      "execution_count": 9,
      "metadata": {
        "jupyter": {
          "source_hidden": false,
          "outputs_hidden": false
        },
        "nteract": {
          "transient": {
            "deleting": false
          }
        },
        "gather": {
          "logged": 1636950672345
        }
      }
    },
    {
      "cell_type": "markdown",
      "source": [
        "## Prepare data"
      ],
      "metadata": {
        "nteract": {
          "transient": {
            "deleting": false
          }
        }
      }
    },
    {
      "cell_type": "code",
      "source": [
        "heart_ds = ws.datasets.get(\"heart\")\r\n",
        "train_valid_ds, test_ds = heart_ds.random_split(percentage=0.75, seed=0)\r\n",
        "train_ds, valid_ds = train_valid_ds.random_split(percentage=0.8, seed=0)\r\n",
        "\r\n",
        "print(valid_ds.to_pandas_dataframe())"
      ],
      "outputs": [
        {
          "output_type": "stream",
          "name": "stdout",
          "text": "    age  sex  cp  trtbps  chol  fbs  restecg  thalachh  exng  oldpeak  slp  \\\n0    44    1   1     120   263    0        1       173     0      0.0    2   \n1    52    1   2     172   199    1        1       162     0      0.5    2   \n2    50    0   2     120   219    0        1       158     0      1.6    1   \n3    58    0   2     120   340    0        1       172     0      0.0    2   \n4    66    0   3     150   226    0        1       114     0      2.6    0   \n5    43    1   0     150   247    0        1       171     0      1.5    2   \n6    71    0   1     160   302    0        1       162     0      0.4    2   \n7    48    1   1     130   245    0        0       180     0      0.2    1   \n8    53    0   0     138   234    0        0       160     0      0.0    2   \n9    48    1   0     122   222    0        0       186     0      0.0    2   \n10   35    0   0     138   183    0        1       182     0      1.4    2   \n11   44    1   1     120   220    0        1       170     0      0.0    2   \n12   51    1   2      94   227    0        1       154     1      0.0    2   \n13   29    1   1     130   204    0        0       202     0      0.0    2   \n14   55    0   1     135   250    0        0       161     0      1.4    1   \n15   46    1   1     101   197    1        1       156     0      0.0    2   \n16   52    1   2     138   223    0        1       169     0      0.0    2   \n17   53    1   2     130   246    1        0       173     0      0.0    2   \n18   59    1   3     178   270    0        0       145     0      4.2    0   \n19   68    0   2     120   211    0        0       115     0      1.5    1   \n20   45    0   0     138   236    0        0       152     1      0.2    1   \n21   34    0   1     118   210    0        1       192     0      0.7    2   \n22   47    1   0     112   204    0        1       143     0      0.1    2   \n23   49    0   1     134   271    0        1       162     0      0.0    1   \n24   57    1   0     110   201    0        1       126     1      1.5    1   \n25   51    0   2     120   295    0        0       157     0      0.6    2   \n26   44    1   2     120   226    0        1       169     0      0.0    2   \n27   66    1   0     160   228    0        0       138     0      2.3    2   \n28   39    0   2     138   220    0        1       152     0      0.0    1   \n29   58    0   0     130   197    0        1       131     0      0.6    1   \n30   47    1   2     130   253    0        1       179     0      0.0    2   \n31   58    1   1     125   220    0        1       144     0      0.4    1   \n32   38    1   2     138   175    0        1       173     0      0.0    2   \n33   58    1   2     132   224    0        0       173     0      3.2    2   \n34   64    1   2     140   335    0        1       158     0      0.0    2   \n35   65    0   0     150   225    0        0       114     0      1.0    1   \n36   58    1   2     112   230    0        0       165     0      2.5    1   \n37   44    1   0     112   290    0        0       153     0      0.0    2   \n38   41    1   0     110   172    0        0       158     0      0.0    2   \n39   60    1   0     145   282    0        0       142     1      2.8    1   \n40   65    1   0     110   248    0        0       158     0      0.6    2   \n41   58    1   0     150   270    0        0       111     1      0.8    2   \n42   39    1   0     118   219    0        1       140     0      1.2    1   \n43   55    1   0     140   217    0        1       111     1      5.6    0   \n44   55    1   0     160   289    0        0       145     1      0.8    1   \n45   58    1   0     125   300    0        0       171     0      0.0    2   \n46   77    1   0     125   304    0        0       162     1      0.0    2   \n47   62    0   0     138   294    1        1       106     0      1.9    1   \n48   38    1   3     120   231    0        1       182     1      3.8    1   \n49   52    1   0     112   230    0        1       160     0      0.0    2   \n50   67    1   0     120   237    0        1        71     0      1.0    1   \n51   52    1   0     128   204    1        1       156     1      1.0    1   \n52   40    1   0     152   223    0        1       181     0      0.0    2   \n53   57    1   1     154   232    0        0       164     0      0.0    2   \n\n    caa  thall  output  \n0     0      3       1  \n1     0      3       1  \n2     0      2       1  \n3     0      2       1  \n4     0      2       1  \n5     0      2       1  \n6     2      2       1  \n7     0      2       1  \n8     0      2       1  \n9     0      2       1  \n10    0      2       1  \n11    0      2       1  \n12    1      3       1  \n13    0      2       1  \n14    0      2       1  \n15    0      3       1  \n16    4      2       1  \n17    3      2       1  \n18    0      3       1  \n19    0      2       1  \n20    0      2       1  \n21    0      2       1  \n22    0      2       1  \n23    0      2       1  \n24    0      1       1  \n25    0      2       1  \n26    0      2       1  \n27    0      1       1  \n28    0      2       1  \n29    0      2       1  \n30    0      2       1  \n31    4      3       1  \n32    4      2       1  \n33    2      3       0  \n34    0      2       0  \n35    3      3       0  \n36    1      3       0  \n37    1      2       0  \n38    0      3       0  \n39    2      3       0  \n40    2      1       0  \n41    0      3       0  \n42    0      3       0  \n43    0      3       0  \n44    1      3       0  \n45    2      3       0  \n46    3      2       0  \n47    3      2       0  \n48    0      3       0  \n49    1      2       0  \n50    0      2       0  \n51    0      0       0  \n52    0      3       0  \n53    1      2       0  \n"
        }
      ],
      "execution_count": 10,
      "metadata": {
        "jupyter": {
          "source_hidden": false,
          "outputs_hidden": false
        },
        "nteract": {
          "transient": {
            "deleting": false
          }
        },
        "gather": {
          "logged": 1636950672863
        }
      }
    },
    {
      "cell_type": "markdown",
      "source": [
        "## Configure automated machine learning\r\n",
        "\r\n",
        "Set config class with the performance metric that the model will be evaluated."
      ],
      "metadata": {
        "nteract": {
          "transient": {
            "deleting": false
          }
        }
      }
    },
    {
      "cell_type": "code",
      "source": [
        "from azureml.train.automl import AutoMLConfig\r\n",
        "\r\n",
        "automl_config = AutoMLConfig(name = 'Auto ML Experiment',\r\n",
        "                             task='classification',\r\n",
        "                             compute_target=cluster_name,\r\n",
        "                             training_data=train_ds,\r\n",
        "                             validation_data=valid_ds,\r\n",
        "                             label_column_name='output',\r\n",
        "                             iterations=10,\r\n",
        "                             primary_metric='accuracy',\r\n",
        "                             max_concurrent_iterations=2,\r\n",
        "                             featurization='auto')"
      ],
      "outputs": [],
      "execution_count": 13,
      "metadata": {
        "jupyter": {
          "source_hidden": false,
          "outputs_hidden": false
        },
        "nteract": {
          "transient": {
            "deleting": false
          }
        },
        "gather": {
          "logged": 1636950743121
        }
      }
    },
    {
      "cell_type": "markdown",
      "source": [
        "## Run auto ML experiment"
      ],
      "metadata": {
        "nteract": {
          "transient": {
            "deleting": false
          }
        }
      }
    },
    {
      "cell_type": "code",
      "source": [
        "from azureml.core.experiment import Experiment\r\n",
        "from azureml.widgets import RunDetails\r\n",
        "\r\n",
        "automl_experiment = Experiment(ws, 'heart-automl')\r\n",
        "automl_run = automl_experiment.submit(automl_config)\r\n",
        "RunDetails(automl_run).show()\r\n",
        "automl_run.wait_for_completion(show_output=True)"
      ],
      "outputs": [],
      "execution_count": null,
      "metadata": {
        "jupyter": {
          "source_hidden": false,
          "outputs_hidden": false
        },
        "nteract": {
          "transient": {
            "deleting": false
          }
        },
        "gather": {
          "logged": 1636951521442
        }
      }
    },
    {
      "cell_type": "markdown",
      "source": [
        "## View child run details"
      ],
      "metadata": {
        "nteract": {
          "transient": {
            "deleting": false
          }
        }
      }
    },
    {
      "cell_type": "code",
      "source": [
        "for run in automl_run.get_children():\r\n",
        "    print('Run ID', run.id)\r\n",
        "    for metric in run.get_metrics():\r\n",
        "        print('\\t', run.get_metrics(metric))    "
      ],
      "outputs": [
        {
          "output_type": "stream",
          "name": "stdout",
          "text": "Run ID AutoML_2618e68f-c7bd-41f2-95e4-3a92cd6aa189_8\n\t {'AUC_weighted': 0.8802308802308803}\n\t {'accuracy': 0.8148148148148148}\n\t {'average_precision_score_micro': 0.8759922160072741}\n\t {'recall_score_micro': 0.8148148148148148}\n\t {'f1_score_macro': 0.7969924812030074}\n\t {'f1_score_weighted': 0.810359231411863}\n\t {'precision_score_macro': 0.8171701112877583}\n\t {'average_precision_score_weighted': 0.8796285634708554}\n\t {'precision_score_weighted': 0.8157569334039922}\n\t {'balanced_accuracy': 0.7878787878787878}\n\t {'recall_score_weighted': 0.8148148148148148}\n\t {'weighted_accuracy': 0.8392156862745097}\n\t {'log_loss': 0.44919812524569247}\n\t {'recall_score_macro': 0.7878787878787878}\n\t {'matthews_correlation': 0.6043394648337973}\n\t {'average_precision_score_macro': 0.8698354740454199}\n\t {'norm_macro_recall': 0.5757575757575757}\n\t {'AUC_micro': 0.8751714677640604}\n\t {'precision_score_micro': 0.8148148148148148}\n\t {'f1_score_micro': 0.8148148148148148}\n\t {'AUC_macro': 0.8802308802308803}\n\t {'accuracy_table': 'aml://artifactId/ExperimentRun/dcid.AutoML_2618e68f-c7bd-41f2-95e4-3a92cd6aa189_8/accuracy_table'}\n\t {'confusion_matrix': 'aml://artifactId/ExperimentRun/dcid.AutoML_2618e68f-c7bd-41f2-95e4-3a92cd6aa189_8/confusion_matrix'}\nRun ID AutoML_2618e68f-c7bd-41f2-95e4-3a92cd6aa189_9\n\t {'f1_score_macro': 0.7792642140468228}\n\t {'log_loss': 0.44952857261759377}\n\t {'AUC_weighted': 0.8802308802308803}\n\t {'f1_score_weighted': 0.7928898798464017}\n\t {'precision_score_weighted': 0.7947530864197532}\n\t {'recall_score_weighted': 0.7962962962962963}\n\t {'balanced_accuracy': 0.7727272727272727}\n\t {'precision_score_macro': 0.7916666666666667}\n\t {'average_precision_score_macro': 0.868612555259137}\n\t {'AUC_micro': 0.8741426611796982}\n\t {'average_precision_score_micro': 0.8688197260197797}\n\t {'accuracy': 0.7962962962962963}\n\t {'norm_macro_recall': 0.5454545454545454}\n\t {'average_precision_score_weighted': 0.8779109068741664}\n\t {'recall_score_micro': 0.7962962962962963}\n\t {'matthews_correlation': 0.5640760748177662}\n\t {'recall_score_macro': 0.7727272727272727}\n\t {'AUC_macro': 0.8802308802308803}\n\t {'precision_score_micro': 0.7962962962962963}\n\t {'f1_score_micro': 0.7962962962962963}\n\t {'weighted_accuracy': 0.8176470588235294}\n\t {'accuracy_table': 'aml://artifactId/ExperimentRun/dcid.AutoML_2618e68f-c7bd-41f2-95e4-3a92cd6aa189_9/accuracy_table'}\n\t {'confusion_matrix': 'aml://artifactId/ExperimentRun/dcid.AutoML_2618e68f-c7bd-41f2-95e4-3a92cd6aa189_9/confusion_matrix'}\nRun ID AutoML_2618e68f-c7bd-41f2-95e4-3a92cd6aa189_7\n\t {'f1_score_macro': 0.7969924812030074}\n\t {'average_precision_score_macro': 0.8545573310809448}\n\t {'recall_score_micro': 0.8148148148148148}\n\t {'AUC_micro': 0.8696844993141288}\n\t {'balanced_accuracy': 0.7878787878787878}\n\t {'f1_score_micro': 0.8148148148148148}\n\t {'average_precision_score_weighted': 0.8650535918481941}\n\t {'weighted_accuracy': 0.8392156862745097}\n\t {'norm_macro_recall': 0.5757575757575757}\n\t {'AUC_weighted': 0.8715728715728716}\n\t {'AUC_macro': 0.8715728715728716}\n\t {'log_loss': 0.4913224785817929}\n\t {'f1_score_weighted': 0.810359231411863}\n\t {'precision_score_micro': 0.8148148148148148}\n\t {'recall_score_macro': 0.7878787878787878}\n\t {'matthews_correlation': 0.6043394648337973}\n\t {'accuracy': 0.8148148148148148}\n\t {'recall_score_weighted': 0.8148148148148148}\n\t {'precision_score_weighted': 0.8157569334039922}\n\t {'precision_score_macro': 0.8171701112877583}\n\t {'average_precision_score_micro': 0.8647746901376284}\n\t {'confusion_matrix': 'aml://artifactId/ExperimentRun/dcid.AutoML_2618e68f-c7bd-41f2-95e4-3a92cd6aa189_7/confusion_matrix'}\n\t {'accuracy_table': 'aml://artifactId/ExperimentRun/dcid.AutoML_2618e68f-c7bd-41f2-95e4-3a92cd6aa189_7/accuracy_table'}\nRun ID AutoML_2618e68f-c7bd-41f2-95e4-3a92cd6aa189_6\n\t {'recall_score_weighted': 0.7592592592592593}\n\t {'recall_score_macro': 0.725108225108225}\n\t {'balanced_accuracy': 0.725108225108225}\n\t {'f1_score_micro': 0.7592592592592593}\n\t {'precision_score_macro': 0.756578947368421}\n\t {'AUC_weighted': 0.8686868686868686}\n\t {'weighted_accuracy': 0.7901960784313725}\n\t {'recall_score_micro': 0.7592592592592593}\n\t {'norm_macro_recall': 0.45021645021645007}\n\t {'precision_score_micro': 0.7592592592592593}\n\t {'average_precision_score_weighted': 0.8720790110475536}\n\t {'f1_score_weighted': 0.7514697796387937}\n\t {'accuracy': 0.7592592592592593}\n\t {'AUC_micro': 0.8535665294924554}\n\t {'AUC_macro': 0.8686868686868687}\n\t {'f1_score_macro': 0.7327750285496764}\n\t {'matthews_correlation': 0.48065801332024816}\n\t {'precision_score_weighted': 0.7580409356725147}\n\t {'average_precision_score_macro': 0.8576143370587224}\n\t {'average_precision_score_micro': 0.8628578193062915}\n\t {'log_loss': 0.5134985574399886}\n\t {'accuracy_table': 'aml://artifactId/ExperimentRun/dcid.AutoML_2618e68f-c7bd-41f2-95e4-3a92cd6aa189_6/accuracy_table'}\n\t {'confusion_matrix': 'aml://artifactId/ExperimentRun/dcid.AutoML_2618e68f-c7bd-41f2-95e4-3a92cd6aa189_6/confusion_matrix'}\nRun ID AutoML_2618e68f-c7bd-41f2-95e4-3a92cd6aa189_5\n\t {'average_precision_score_micro': 0.825579126745527}\n\t {'AUC_micro': 0.8096707818930041}\n\t {'accuracy': 0.7592592592592593}\n\t {'log_loss': 0.5689322408092741}\n\t {'precision_score_weighted': 0.7580409356725147}\n\t {'recall_score_macro': 0.725108225108225}\n\t {'precision_score_micro': 0.7592592592592593}\n\t {'balanced_accuracy': 0.725108225108225}\n\t {'f1_score_macro': 0.7327750285496764}\n\t {'precision_score_macro': 0.756578947368421}\n\t {'f1_score_micro': 0.7592592592592593}\n\t {'matthews_correlation': 0.48065801332024816}\n\t {'f1_score_weighted': 0.7514697796387937}\n\t {'recall_score_micro': 0.7592592592592593}\n\t {'average_precision_score_weighted': 0.8435335737326781}\n\t {'norm_macro_recall': 0.45021645021645007}\n\t {'AUC_macro': 0.8282828282828283}\n\t {'average_precision_score_macro': 0.8265841192875888}\n\t {'weighted_accuracy': 0.7901960784313725}\n\t {'AUC_weighted': 0.8282828282828282}\n\t {'recall_score_weighted': 0.7592592592592593}\n\t {'accuracy_table': 'aml://artifactId/ExperimentRun/dcid.AutoML_2618e68f-c7bd-41f2-95e4-3a92cd6aa189_5/accuracy_table'}\n\t {'confusion_matrix': 'aml://artifactId/ExperimentRun/dcid.AutoML_2618e68f-c7bd-41f2-95e4-3a92cd6aa189_5/confusion_matrix'}\nRun ID AutoML_2618e68f-c7bd-41f2-95e4-3a92cd6aa189_4\n\t {'AUC_macro': 0.8275613275613276}\n\t {'precision_score_weighted': 0.7208333333333333}\n\t {'f1_score_micro': 0.7222222222222222}\n\t {'precision_score_macro': 0.7196428571428571}\n\t {'AUC_weighted': 0.8275613275613275}\n\t {'log_loss': 0.49940990056194456}\n\t {'weighted_accuracy': 0.7627450980392156}\n\t {'accuracy': 0.7222222222222222}\n\t {'f1_score_weighted': 0.7077625570776255}\n\t {'precision_score_micro': 0.7222222222222222}\n\t {'average_precision_score_weighted': 0.8150757559888567}\n\t {'f1_score_macro': 0.6829745596868884}\n\t {'recall_score_macro': 0.6774891774891775}\n\t {'average_precision_score_micro': 0.8191961856203879}\n\t {'norm_macro_recall': 0.35497835497835495}\n\t {'balanced_accuracy': 0.6774891774891775}\n\t {'average_precision_score_macro': 0.8023396016934772}\n\t {'recall_score_weighted': 0.7222222222222222}\n\t {'recall_score_micro': 0.7222222222222222}\n\t {'AUC_micro': 0.832647462277092}\n\t {'matthews_correlation': 0.3948884908713275}\n\t {'confusion_matrix': 'aml://artifactId/ExperimentRun/dcid.AutoML_2618e68f-c7bd-41f2-95e4-3a92cd6aa189_4/confusion_matrix'}\n\t {'accuracy_table': 'aml://artifactId/ExperimentRun/dcid.AutoML_2618e68f-c7bd-41f2-95e4-3a92cd6aa189_4/accuracy_table'}\nRun ID AutoML_2618e68f-c7bd-41f2-95e4-3a92cd6aa189_3\n\t {'average_precision_score_weighted': 0.8334051531296538}\n\t {'balanced_accuracy': 0.6948051948051948}\n\t {'f1_score_macro': 0.6989966555183946}\n\t {'precision_score_macro': 0.7083333333333333}\n\t {'average_precision_score_micro': 0.8335013330399286}\n\t {'recall_score_weighted': 0.7222222222222222}\n\t {'f1_score_weighted': 0.7175771088814565}\n\t {'accuracy': 0.7222222222222222}\n\t {'AUC_micro': 0.8228737997256516}\n\t {'AUC_weighted': 0.8210678210678211}\n\t {'average_precision_score_macro': 0.8180692312941831}\n\t {'norm_macro_recall': 0.3896103896103895}\n\t {'AUC_macro': 0.8210678210678211}\n\t {'recall_score_macro': 0.6948051948051948}\n\t {'precision_score_micro': 0.7222222222222222}\n\t {'log_loss': 0.5423611716579942}\n\t {'precision_score_weighted': 0.7175925925925926}\n\t {'f1_score_micro': 0.7222222222222222}\n\t {'recall_score_micro': 0.7222222222222222}\n\t {'matthews_correlation': 0.40291148201269017}\n\t {'weighted_accuracy': 0.7470588235294117}\n\t {'accuracy_table': 'aml://artifactId/ExperimentRun/dcid.AutoML_2618e68f-c7bd-41f2-95e4-3a92cd6aa189_3/accuracy_table'}\n\t {'confusion_matrix': 'aml://artifactId/ExperimentRun/dcid.AutoML_2618e68f-c7bd-41f2-95e4-3a92cd6aa189_3/confusion_matrix'}\nRun ID AutoML_2618e68f-c7bd-41f2-95e4-3a92cd6aa189_2\n\t {'average_precision_score_micro': 0.887968242149395}\n\t {'recall_score_macro': 0.7792207792207793}\n\t {'average_precision_score_weighted': 0.8742557069424158}\n\t {'precision_score_micro': 0.8148148148148148}\n\t {'AUC_weighted': 0.873015873015873}\n\t {'balanced_accuracy': 0.7792207792207793}\n\t {'f1_score_macro': 0.7916666666666667}\n\t {'log_loss': 0.46922424597916684}\n\t {'accuracy': 0.8148148148148148}\n\t {'recall_score_weighted': 0.8148148148148148}\n\t {'precision_score_macro': 0.8307692307692307}\n\t {'average_precision_score_macro': 0.8637848769386285}\n\t {'f1_score_micro': 0.8148148148148148}\n\t {'matthews_correlation': 0.6078080037565888}\n\t {'AUC_macro': 0.873015873015873}\n\t {'AUC_micro': 0.8895747599451304}\n\t {'weighted_accuracy': 0.8470588235294116}\n\t {'norm_macro_recall': 0.5584415584415585}\n\t {'precision_score_weighted': 0.8227920227920228}\n\t {'recall_score_micro': 0.8148148148148148}\n\t {'f1_score_weighted': 0.8070987654320988}\n\t {'accuracy_table': 'aml://artifactId/ExperimentRun/dcid.AutoML_2618e68f-c7bd-41f2-95e4-3a92cd6aa189_2/accuracy_table'}\n\t {'confusion_matrix': 'aml://artifactId/ExperimentRun/dcid.AutoML_2618e68f-c7bd-41f2-95e4-3a92cd6aa189_2/confusion_matrix'}\nRun ID AutoML_2618e68f-c7bd-41f2-95e4-3a92cd6aa189_1\n\t {'precision_score_macro': 0.7384615384615385}\n\t {'matthews_correlation': 0.4381871654989361}\n\t {'precision_score_micro': 0.7407407407407407}\n\t {'recall_score_micro': 0.7407407407407407}\n\t {'recall_score_weighted': 0.7407407407407407}\n\t {'log_loss': 0.6389905699663067}\n\t {'AUC_weighted': 0.836940836940837}\n\t {'f1_score_micro': 0.7407407407407407}\n\t {'weighted_accuracy': 0.776470588235294}\n\t {'accuracy': 0.7407407407407407}\n\t {'AUC_macro': 0.8369408369408369}\n\t {'f1_score_weighted': 0.7299382716049384}\n\t {'AUC_micro': 0.8319615912208504}\n\t {'f1_score_macro': 0.7083333333333333}\n\t {'average_precision_score_micro': 0.8435215186572897}\n\t {'recall_score_macro': 0.7012987012987013}\n\t {'balanced_accuracy': 0.7012987012987013}\n\t {'average_precision_score_macro': 0.8177785361036652}\n\t {'average_precision_score_weighted': 0.8375380215086897}\n\t {'norm_macro_recall': 0.4025974025974026}\n\t {'precision_score_weighted': 0.7396011396011396}\n\t {'accuracy_table': 'aml://artifactId/ExperimentRun/dcid.AutoML_2618e68f-c7bd-41f2-95e4-3a92cd6aa189_1/accuracy_table'}\n\t {'confusion_matrix': 'aml://artifactId/ExperimentRun/dcid.AutoML_2618e68f-c7bd-41f2-95e4-3a92cd6aa189_1/confusion_matrix'}\nRun ID AutoML_2618e68f-c7bd-41f2-95e4-3a92cd6aa189_0\n\t {'f1_score_weighted': 0.6965747702589808}\n\t {'recall_score_micro': 0.7037037037037037}\n\t {'recall_score_macro': 0.670995670995671}\n\t {'recall_score_weighted': 0.7037037037037037}\n\t {'average_precision_score_micro': 0.8453507375411972}\n\t {'log_loss': 0.686026006218233}\n\t {'weighted_accuracy': 0.7333333333333333}\n\t {'accuracy': 0.7037037037037037}\n\t {'average_precision_score_macro': 0.8109004576682913}\n\t {'precision_score_weighted': 0.6975799328740506}\n\t {'precision_score_micro': 0.7037037037037037}\n\t {'precision_score_macro': 0.6883942766295708}\n\t {'AUC_micro': 0.8285322359396433}\n\t {'balanced_accuracy': 0.670995670995671}\n\t {'average_precision_score_weighted': 0.8329033602306405}\n\t {'f1_score_macro': 0.675187969924812}\n\t {'f1_score_micro': 0.7037037037037037}\n\t {'AUC_macro': 0.8297258297258296}\n\t {'AUC_weighted': 0.8297258297258296}\n\t {'matthews_correlation': 0.3589685542997743}\n\t {'norm_macro_recall': 0.34199134199134207}\n\t {'accuracy_table': 'aml://artifactId/ExperimentRun/dcid.AutoML_2618e68f-c7bd-41f2-95e4-3a92cd6aa189_0/accuracy_table'}\n\t {'confusion_matrix': 'aml://artifactId/ExperimentRun/dcid.AutoML_2618e68f-c7bd-41f2-95e4-3a92cd6aa189_0/confusion_matrix'}\nRun ID AutoML_2618e68f-c7bd-41f2-95e4-3a92cd6aa189_featurize\nRun ID AutoML_2618e68f-c7bd-41f2-95e4-3a92cd6aa189_setup\n"
        }
      ],
      "execution_count": 15,
      "metadata": {
        "jupyter": {
          "source_hidden": false,
          "outputs_hidden": false
        },
        "nteract": {
          "transient": {
            "deleting": false
          }
        },
        "gather": {
          "logged": 1636951565674
        }
      }
    },
    {
      "cell_type": "markdown",
      "source": [
        "## Get best run"
      ],
      "metadata": {
        "nteract": {
          "transient": {
            "deleting": false
          }
        }
      }
    },
    {
      "cell_type": "code",
      "source": [
        "best_run, fitted_model = automl_run.get_output()\r\n",
        "print(best_run)\r\n",
        "print('\\nBest Model Definition:')\r\n",
        "print(fitted_model)\r\n",
        "print('\\nBest Run Transformations:')\r\n",
        "for step in fitted_model.named_steps:\r\n",
        "    print(step)\r\n",
        "print('\\nBest Run Metrics:')\r\n",
        "best_run_metrics = best_run.get_metrics()\r\n",
        "for metric_name in best_run_metrics:\r\n",
        "    metric = best_run_metrics[metric_name]\r\n",
        "    print(metric_name, metric)\r\n"
      ],
      "outputs": [
        {
          "output_type": "stream",
          "name": "stderr",
          "text": "WARNING:root:The version of the SDK does not match the version the model was trained on.\nWARNING:root:The consistency in the result may not be guaranteed.\nWARNING:root:Package:azureml-automl-core, training version:1.35.1, current version:1.34.0\nPackage:azureml-automl-runtime, training version:1.35.1, current version:1.34.0\nPackage:azureml-core, training version:1.35.0.post1, current version:1.34.0\nPackage:azureml-dataprep, training version:2.23.2, current version:2.22.2\nPackage:azureml-dataprep-rslex, training version:1.21.2, current version:1.20.1\nPackage:azureml-dataset-runtime, training version:1.35.0, current version:1.34.0\nPackage:azureml-defaults, training version:1.35.0, current version:1.34.0\nPackage:azureml-interpret, training version:1.35.0, current version:1.34.0\nPackage:azureml-mlflow, training version:1.35.0, current version:1.34.0\nPackage:azureml-pipeline-core, training version:1.35.0, current version:1.34.0\nPackage:azureml-responsibleai, training version:1.35.0, current version:1.34.0\nPackage:azureml-telemetry, training version:1.35.0, current version:1.34.0\nPackage:azureml-train-automl-client, training version:1.35.0, current version:1.34.0\nPackage:azureml-train-automl-runtime, training version:1.35.1, current version:1.34.0\nPackage:azureml-train-core, training version:1.35.0, current version:1.34.0\nPackage:azureml-train-restclients-hyperdrive, training version:1.35.0, current version:1.34.0\nWARNING:root:Please ensure the version of your local conda dependencies match the version on which your model was trained in order to properly retrieve your model.\n"
        },
        {
          "output_type": "stream",
          "name": "stdout",
          "text": "Run(Experiment: heart-automl,\nId: AutoML_2618e68f-c7bd-41f2-95e4-3a92cd6aa189_2,\nType: azureml.scriptrun,\nStatus: Completed)\n\nBest Model Definition:\nPipeline(memory=None,\n         steps=[('datatransformer',\n                 DataTransformer(enable_dnn=False, enable_feature_sweeping=True, feature_sweeping_config={}, feature_sweeping_timeout=86400, featurization_config=None, force_text_dnn=False, is_cross_validation=False, is_onnx_compatible=False, observer=None, task='classification', working_dir='/mnt/batch/tasks/shared/LS_root/moun...\n                                      class_weight='balanced', criterion='gini',\n                                      max_depth=None, max_features='sqrt',\n                                      max_leaf_nodes=None, max_samples=None,\n                                      min_impurity_decrease=0.0,\n                                      min_impurity_split=None,\n                                      min_samples_leaf=0.01,\n                                      min_samples_split=0.15052631578947367,\n                                      min_weight_fraction_leaf=0.0,\n                                      n_estimators=100, n_jobs=1,\n                                      oob_score=True, random_state=None,\n                                      verbose=0, warm_start=False))],\n         verbose=False)\n\nBest Run Transformations:\ndatatransformer\nMaxAbsScaler\nExtraTreesClassifier\n\nBest Run Metrics:\naverage_precision_score_micro 0.887968242149395\nrecall_score_macro 0.7792207792207793\naverage_precision_score_weighted 0.8742557069424158\nprecision_score_micro 0.8148148148148148\nAUC_weighted 0.873015873015873\nbalanced_accuracy 0.7792207792207793\nf1_score_macro 0.7916666666666667\nlog_loss 0.46922424597916684\naccuracy 0.8148148148148148\nrecall_score_weighted 0.8148148148148148\nprecision_score_macro 0.8307692307692307\naverage_precision_score_macro 0.8637848769386285\nf1_score_micro 0.8148148148148148\nmatthews_correlation 0.6078080037565888\nAUC_macro 0.873015873015873\nAUC_micro 0.8895747599451304\nweighted_accuracy 0.8470588235294116\nnorm_macro_recall 0.5584415584415585\nprecision_score_weighted 0.8227920227920228\nrecall_score_micro 0.8148148148148148\nf1_score_weighted 0.8070987654320988\naccuracy_table aml://artifactId/ExperimentRun/dcid.AutoML_2618e68f-c7bd-41f2-95e4-3a92cd6aa189_2/accuracy_table\nconfusion_matrix aml://artifactId/ExperimentRun/dcid.AutoML_2618e68f-c7bd-41f2-95e4-3a92cd6aa189_2/confusion_matrix\n"
        }
      ],
      "execution_count": 16,
      "metadata": {
        "jupyter": {
          "source_hidden": false,
          "outputs_hidden": false
        },
        "nteract": {
          "transient": {
            "deleting": false
          }
        },
        "gather": {
          "logged": 1636951585236
        }
      }
    },
    {
      "cell_type": "markdown",
      "source": [
        "## Register the model"
      ],
      "metadata": {
        "nteract": {
          "transient": {
            "deleting": false
          }
        }
      }
    },
    {
      "cell_type": "code",
      "source": [
        "from azureml.core import Model\r\n",
        "\r\n",
        "# Register model\r\n",
        "best_run.register_model(model_path='outputs/model.pkl',\r\n",
        "                        model_name='heart_model',\r\n",
        "                        tags={'Training context':'Auto ML'},\r\n",
        "                        properties={'Accuracy': best_run_metrics['accuracy']})\r\n",
        "                        "
      ],
      "outputs": [],
      "execution_count": null,
      "metadata": {
        "jupyter": {
          "source_hidden": false,
          "outputs_hidden": false
        },
        "nteract": {
          "transient": {
            "deleting": false
          }
        },
        "gather": {
          "logged": 1636951662451
        }
      }
    },
    {
      "cell_type": "code",
      "source": [
        "# Check models registered in the workspace\r\n",
        "for model in Model.list(ws):\r\n",
        "    print(model.name, 'version:', model.version)"
      ],
      "outputs": [],
      "execution_count": null,
      "metadata": {
        "jupyter": {
          "source_hidden": false,
          "outputs_hidden": false
        },
        "nteract": {
          "transient": {
            "deleting": false
          }
        },
        "gather": {
          "logged": 1636951669383
        }
      }
    }
  ],
  "metadata": {
    "kernelspec": {
      "name": "python3-azureml",
      "language": "python",
      "display_name": "Python 3.6 - AzureML"
    },
    "language_info": {
      "name": "python",
      "version": "3.6.9",
      "mimetype": "text/x-python",
      "codemirror_mode": {
        "name": "ipython",
        "version": 3
      },
      "pygments_lexer": "ipython3",
      "nbconvert_exporter": "python",
      "file_extension": ".py"
    },
    "kernel_info": {
      "name": "python3-azureml"
    },
    "microsoft": {
      "host": {
        "AzureML": {
          "notebookHasBeenCompleted": true
        }
      }
    },
    "nteract": {
      "version": "nteract-front-end@1.0.0"
    }
  },
  "nbformat": 4,
  "nbformat_minor": 2
}